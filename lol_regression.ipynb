{
  "nbformat": 4,
  "nbformat_minor": 0,
  "metadata": {
    "colab": {
      "provenance": [],
      "mount_file_id": "1RxJ6iLsV-oTenUTkmXXq_aOF6jmvWNXg",
      "authorship_tag": "ABX9TyMbFVxChvVAWPuLA/P5LPGP",
      "include_colab_link": true
    },
    "kernelspec": {
      "name": "python3",
      "display_name": "Python 3"
    },
    "language_info": {
      "name": "python"
    }
  },
  "cells": [
    {
      "cell_type": "markdown",
      "metadata": {
        "id": "view-in-github",
        "colab_type": "text"
      },
      "source": [
        "<a href=\"https://colab.research.google.com/github/HPereiraVitor/Lab6/blob/main/lol_regression.ipynb\" target=\"_parent\"><img src=\"https://colab.research.google.com/assets/colab-badge.svg\" alt=\"Open In Colab\"/></a>"
      ]
    },
    {
      "cell_type": "code",
      "execution_count": 34,
      "metadata": {
        "colab": {
          "base_uri": "https://localhost:8080/"
        },
        "id": "2b0Ev5zu93G_",
        "outputId": "6b35ac64-ff07-42d7-df00-367c99adfbbd"
      },
      "outputs": [
        {
          "output_type": "stream",
          "name": "stderr",
          "text": [
            "/usr/local/lib/python3.7/dist-packages/IPython/core/interactiveshell.py:3326: FutureWarning: The error_bad_lines argument has been deprecated and will be removed in a future version.\n",
            "\n",
            "\n",
            "  exec(code_obj, self.user_global_ns, self.user_ns)\n",
            "b'Skipping line 12482: expected 50 fields, saw 80\\n'\n",
            "b'Skipping line 18751: expected 50 fields, saw 59\\n'\n"
          ]
        },
        {
          "output_type": "stream",
          "name": "stdout",
          "text": [
            "Size of challenger: (26903, 51)\n",
            "Size of grandmaster: (65895, 51)\n"
          ]
        },
        {
          "output_type": "stream",
          "name": "stderr",
          "text": [
            "b'Skipping line 12489: expected 50 fields, saw 96\\n'\n"
          ]
        },
        {
          "output_type": "stream",
          "name": "stdout",
          "text": [
            "Size of master: (107124, 51)\n"
          ]
        }
      ],
      "source": [
        "import numpy as np\n",
        "import pandas as pd\n",
        "import matplotlib.pyplot as plt\n",
        "import plotly.express as px\n",
        "import seaborn as sns\n",
        "\n",
        "dir = 'drive/MyDrive/Colab/lol/'\n",
        "ranks = ['challenger', 'grandmaster', 'master']\n",
        "\n",
        "data = pd.DataFrame()\n",
        "\n",
        "for rank in ranks:\n",
        "    chall_df = pd.read_csv(dir+rank+'-ranked.csv', error_bad_lines=False)\n",
        "    chall_df['Rank'] = rank\n",
        "    print(\"Size of {}: {}\".format(rank,chall_df.shape))\n",
        "    data = data.append(chall_df, ignore_index=True)"
      ]
    },
    {
      "cell_type": "code",
      "source": [
        "print(\"Total size: {}\".format(data.shape))"
      ],
      "metadata": {
        "colab": {
          "base_uri": "https://localhost:8080/"
        },
        "id": "V35StUF9951x",
        "outputId": "b60460ef-23a8-4e65-f035-edcddc9b53c0"
      },
      "execution_count": 35,
      "outputs": [
        {
          "output_type": "stream",
          "name": "stdout",
          "text": [
            "Total size: (199922, 51)\n"
          ]
        }
      ]
    },
    {
      "cell_type": "code",
      "source": [
        "categories = ['Wins', 'FirstBlood', 'FirstTower',\n",
        "       'FirstBaron', 'FirstDragon', 'FirstInhibitor',\n",
        "       'DragonKills', 'BaronKills', 'TowerKills',\n",
        "       'InhibitorKills', 'WardPlaced', 'Wardkills', 'Kills',\n",
        "       'Death', 'Assist', 'ChampionDamageDealt', 'TotalGold',\n",
        "       'TotalMinionKills', 'TotalLevel', 'AvgLevel',\n",
        "       'JungleMinionKills', 'KillingSpree', 'TotalHeal',\n",
        "       'ObjectDamageDealt']\n",
        "\n",
        "for category in categories:\n",
        "    chall_df = chall_df.drop(columns=['red'+category])\n",
        "\n",
        "# Limpando dados que não queremos\n",
        "X = chall_df.drop(columns=['gameId', 'gameDuraton', 'Rank', 'blueAvgLevel', 'blueTotalLevel', 'blueDeath', 'blueKillingSpree', 'blueTotalHeal', 'blueObjectDamageDealt', 'blueTotalGold'])\n",
        "\n",
        "# Queremos fazer os diagnósticos\n",
        "y = chall_df['blueTotalGold']"
      ],
      "metadata": {
        "id": "u0wnBu-U99am"
      },
      "execution_count": 36,
      "outputs": []
    },
    {
      "cell_type": "code",
      "source": [
        "X = X.drop(columns=['blueJungleMinionKills'])"
      ],
      "metadata": {
        "id": "CHn6USe3-Bw3"
      },
      "execution_count": 37,
      "outputs": []
    },
    {
      "cell_type": "code",
      "source": [
        "print(chall_df.dtypes)"
      ],
      "metadata": {
        "colab": {
          "base_uri": "https://localhost:8080/"
        },
        "id": "latVyPY5BMOr",
        "outputId": "6fffceee-8934-4a1b-cae2-086bfb2b99c5"
      },
      "execution_count": 38,
      "outputs": [
        {
          "output_type": "stream",
          "name": "stdout",
          "text": [
            "gameId                       int64\n",
            "gameDuraton                  int64\n",
            "blueWins                     int64\n",
            "blueFirstBlood               int64\n",
            "blueFirstTower               int64\n",
            "blueFirstBaron               int64\n",
            "blueFirstDragon              int64\n",
            "blueFirstInhibitor           int64\n",
            "blueDragonKills              int64\n",
            "blueBaronKills               int64\n",
            "blueTowerKills               int64\n",
            "blueInhibitorKills           int64\n",
            "blueWardPlaced               int64\n",
            "blueWardkills                int64\n",
            "blueKills                    int64\n",
            "blueDeath                  float64\n",
            "blueAssist                   int64\n",
            "blueChampionDamageDealt      int64\n",
            "blueTotalGold                int64\n",
            "blueTotalMinionKills         int64\n",
            "blueTotalLevel             float64\n",
            "blueAvgLevel               float64\n",
            "blueJungleMinionKills      float64\n",
            "blueKillingSpree           float64\n",
            "blueTotalHeal              float64\n",
            "blueObjectDamageDealt      float64\n",
            "Rank                        object\n",
            "dtype: object\n"
          ]
        }
      ]
    },
    {
      "cell_type": "code",
      "source": [
        "print(X.dtypes)"
      ],
      "metadata": {
        "colab": {
          "base_uri": "https://localhost:8080/"
        },
        "id": "_jmJqiCD-CQ3",
        "outputId": "1bd527de-767d-4544-a7b6-919eef74b286"
      },
      "execution_count": 39,
      "outputs": [
        {
          "output_type": "stream",
          "name": "stdout",
          "text": [
            "blueWins                   int64\n",
            "blueFirstBlood             int64\n",
            "blueFirstTower             int64\n",
            "blueFirstBaron             int64\n",
            "blueFirstDragon            int64\n",
            "blueFirstInhibitor         int64\n",
            "blueDragonKills            int64\n",
            "blueBaronKills             int64\n",
            "blueTowerKills             int64\n",
            "blueInhibitorKills         int64\n",
            "blueWardPlaced             int64\n",
            "blueWardkills              int64\n",
            "blueKills                  int64\n",
            "blueAssist                 int64\n",
            "blueChampionDamageDealt    int64\n",
            "blueTotalMinionKills       int64\n",
            "dtype: object\n"
          ]
        }
      ]
    },
    {
      "cell_type": "code",
      "source": [
        "# Retira 20% para testar\n",
        "from sklearn.model_selection import train_test_split\n",
        "\n",
        "X_train, X_test, y_train, y_test = train_test_split(X, y, test_size=0.2, random_state=1)"
      ],
      "metadata": {
        "id": "jSBYdw8Z-EVX"
      },
      "execution_count": 40,
      "outputs": []
    },
    {
      "cell_type": "code",
      "source": [
        "# Treina com 80%\n",
        "from sklearn.neural_network import MLPRegressor\n",
        "\n",
        "# Instancia um classificador tipo árvore de decisão com profundidade máxima 6\n",
        "model = MLPRegressor(random_state=1, max_iter=2000)\n",
        "\n",
        "# Treina o modelo\n",
        "model.fit(X_train, y_train)"
      ],
      "metadata": {
        "colab": {
          "base_uri": "https://localhost:8080/"
        },
        "id": "rySqfDaa-I4C",
        "outputId": "20c1d52f-9264-4da7-e328-6a463e6839f7"
      },
      "execution_count": 41,
      "outputs": [
        {
          "output_type": "execute_result",
          "data": {
            "text/plain": [
              "MLPRegressor(max_iter=2000, random_state=1)"
            ]
          },
          "metadata": {},
          "execution_count": 41
        }
      ]
    },
    {
      "cell_type": "code",
      "source": [
        "# Predição\n",
        "y_pred = model.predict(X_test)"
      ],
      "metadata": {
        "id": "ShzUaVq9-Ks5"
      },
      "execution_count": 42,
      "outputs": []
    },
    {
      "cell_type": "code",
      "source": [
        "import matplotlib.pyplot as plt\n",
        "\n",
        "fig, ax = plt.subplots()\n",
        "ax.scatter(y_test, y_pred)\n",
        "ax.plot([y.min(), y.max()], [y.min(), y.max()], 'k--', lw=4)\n",
        "ax.set_xlabel('Measured')\n",
        "ax.set_ylabel('Predicted')\n",
        "plt.show()"
      ],
      "metadata": {
        "colab": {
          "base_uri": "https://localhost:8080/",
          "height": 279
        },
        "id": "tvlcyUiG-Mh_",
        "outputId": "0be06ac9-b4da-4f8c-a276-03d20da83c3d"
      },
      "execution_count": 43,
      "outputs": [
        {
          "output_type": "display_data",
          "data": {
            "text/plain": [
              "<Figure size 432x288 with 1 Axes>"
            ],
            "image/png": "[encoded data removed]"
          },
          "metadata": {
            "needs_background": "light"
          }
        }
      ]
    }
  ]
}